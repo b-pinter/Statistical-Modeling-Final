{
 "cells": [
  {
   "cell_type": "code",
   "execution_count": 2,
   "id": "aea576d4-7bbc-40ed-a1d7-4a6f4c254d04",
   "metadata": {},
   "outputs": [],
   "source": [
    "import numpy as np\n",
    "import pandas as pd\n",
    "import seaborn as sns\n",
    "import matplotlib.pyplot as plt\n",
    "from statistics import mode\n",
    "from scipy.stats import norm as norm"
   ]
  },
  {
   "cell_type": "code",
   "execution_count": 3,
   "id": "03e2b339-e43d-4795-bc1d-d77c8f28f5c8",
   "metadata": {},
   "outputs": [],
   "source": [
    "import statsmodels.api as sm\n",
    "from ISLP import load_data\n",
    "from ISLP.models import (ModelSpec as MS,\n",
    "                         summarize,\n",
    "                         poly)\n",
    "from sklearn.model_selection import train_test_split\n",
    "from functools import partial\n",
    "from sklearn.model_selection import \\\n",
    "     (cross_validate,\n",
    "      KFold,\n",
    "      ShuffleSplit)\n",
    "from sklearn.base import clone\n",
    "from ISLP.models import sklearn_sm\n",
    "\n",
    "from ISLP.models import (ModelSpec as MS,\n",
    "                         summarize,\n",
    "                         poly)\n",
    "from ISLP import confusion_table\n",
    "import statsmodels.api as sm\n",
    "from sklearn.preprocessing import scale\n",
    "from sklearn.metrics import mean_squared_error\n",
    "from sklearn.preprocessing import StandardScaler\n",
    "from sklearn.linear_model import Ridge, RidgeCV, Lasso, LassoCV\n",
    "from ISLP.models import (ModelSpec as MS,\n",
    "                         summarize,\n",
    "                         poly)\n",
    "from sklearn.metrics import accuracy_score\n",
    "from sklearn.metrics import roc_curve\n",
    "from sklearn.metrics import roc_auc_score\n",
    "from ISLP.models import contrast\n",
    "from sklearn.discriminant_analysis import \\\n",
    "     (LinearDiscriminantAnalysis as LDA,\n",
    "      QuadraticDiscriminantAnalysis as QDA)\n",
    "from sklearn.naive_bayes import GaussianNB\n",
    "from sklearn.neighbors import KNeighborsClassifier\n",
    "from sklearn.preprocessing import StandardScaler\n",
    "from sklearn.model_selection import train_test_split\n",
    "from sklearn.linear_model import LogisticRegression\n",
    "from matplotlib.pyplot import subplots\n",
    "from sklearn.preprocessing import Normalizer\n",
    "from sklearn.metrics import confusion_matrix"
   ]
  },
  {
   "cell_type": "code",
   "execution_count": 4,
   "id": "95ee017c-ba1b-42de-8519-4b9837e8a315",
   "metadata": {},
   "outputs": [],
   "source": [
    "#Upload Dataset\n",
    "df = pd.read_csv('https://raw.githubusercontent.com/b-pinter/Statistical-Modeling-Final/main/pharyngitis.csv')"
   ]
  },
  {
   "cell_type": "code",
   "execution_count": 86,
   "id": "ea78a014-5fee-4b7b-b1f9-de2e45ab821f",
   "metadata": {},
   "outputs": [
    {
     "data": {
      "text/html": [
       "<div>\n",
       "<style scoped>\n",
       "    .dataframe tbody tr th:only-of-type {\n",
       "        vertical-align: middle;\n",
       "    }\n",
       "\n",
       "    .dataframe tbody tr th {\n",
       "        vertical-align: top;\n",
       "    }\n",
       "\n",
       "    .dataframe thead th {\n",
       "        text-align: right;\n",
       "    }\n",
       "</style>\n",
       "<table border=\"1\" class=\"dataframe\">\n",
       "  <thead>\n",
       "    <tr style=\"text-align: right;\">\n",
       "      <th></th>\n",
       "      <th>number</th>\n",
       "      <th>age_y</th>\n",
       "      <th>radt</th>\n",
       "      <th>pain</th>\n",
       "      <th>swollenadp</th>\n",
       "      <th>tender</th>\n",
       "      <th>tonsillarswelling</th>\n",
       "      <th>exudate</th>\n",
       "      <th>temperature</th>\n",
       "      <th>sudden</th>\n",
       "      <th>cough</th>\n",
       "      <th>rhinorrhea</th>\n",
       "      <th>conjunctivitis</th>\n",
       "      <th>headache</th>\n",
       "      <th>erythema</th>\n",
       "      <th>petechiae</th>\n",
       "      <th>abdopain</th>\n",
       "      <th>diarrhea</th>\n",
       "      <th>nauseavomit</th>\n",
       "      <th>scarlet</th>\n",
       "    </tr>\n",
       "  </thead>\n",
       "  <tbody>\n",
       "    <tr>\n",
       "      <th>0</th>\n",
       "      <td>2000</td>\n",
       "      <td>7.0</td>\n",
       "      <td>0</td>\n",
       "      <td>1.0</td>\n",
       "      <td>1.0</td>\n",
       "      <td>0.0</td>\n",
       "      <td>0.0</td>\n",
       "      <td>0.0</td>\n",
       "      <td>37.0</td>\n",
       "      <td>1.0</td>\n",
       "      <td>1.0</td>\n",
       "      <td>0.0</td>\n",
       "      <td>0.0</td>\n",
       "      <td>0.0</td>\n",
       "      <td>1.0</td>\n",
       "      <td>0.0</td>\n",
       "      <td>0.0</td>\n",
       "      <td>0.0</td>\n",
       "      <td>0.0</td>\n",
       "      <td>0.0</td>\n",
       "    </tr>\n",
       "    <tr>\n",
       "      <th>1</th>\n",
       "      <td>2001</td>\n",
       "      <td>11.7</td>\n",
       "      <td>1</td>\n",
       "      <td>1.0</td>\n",
       "      <td>1.0</td>\n",
       "      <td>0.0</td>\n",
       "      <td>0.0</td>\n",
       "      <td>0.0</td>\n",
       "      <td>38.0</td>\n",
       "      <td>1.0</td>\n",
       "      <td>0.0</td>\n",
       "      <td>0.0</td>\n",
       "      <td>0.0</td>\n",
       "      <td>0.0</td>\n",
       "      <td>1.0</td>\n",
       "      <td>0.0</td>\n",
       "      <td>0.0</td>\n",
       "      <td>0.0</td>\n",
       "      <td>0.0</td>\n",
       "      <td>0.0</td>\n",
       "    </tr>\n",
       "    <tr>\n",
       "      <th>2</th>\n",
       "      <td>2002</td>\n",
       "      <td>5.6</td>\n",
       "      <td>1</td>\n",
       "      <td>1.0</td>\n",
       "      <td>2.0</td>\n",
       "      <td>1.0</td>\n",
       "      <td>1.0</td>\n",
       "      <td>0.0</td>\n",
       "      <td>37.0</td>\n",
       "      <td>1.0</td>\n",
       "      <td>0.0</td>\n",
       "      <td>1.0</td>\n",
       "      <td>1.0</td>\n",
       "      <td>0.0</td>\n",
       "      <td>1.0</td>\n",
       "      <td>1.0</td>\n",
       "      <td>0.0</td>\n",
       "      <td>0.0</td>\n",
       "      <td>0.0</td>\n",
       "      <td>0.0</td>\n",
       "    </tr>\n",
       "    <tr>\n",
       "      <th>3</th>\n",
       "      <td>2003</td>\n",
       "      <td>6.0</td>\n",
       "      <td>1</td>\n",
       "      <td>1.0</td>\n",
       "      <td>2.0</td>\n",
       "      <td>1.0</td>\n",
       "      <td>1.0</td>\n",
       "      <td>0.0</td>\n",
       "      <td>40.8</td>\n",
       "      <td>1.0</td>\n",
       "      <td>0.0</td>\n",
       "      <td>1.0</td>\n",
       "      <td>0.0</td>\n",
       "      <td>0.0</td>\n",
       "      <td>1.0</td>\n",
       "      <td>0.0</td>\n",
       "      <td>0.0</td>\n",
       "      <td>0.0</td>\n",
       "      <td>0.0</td>\n",
       "      <td>0.0</td>\n",
       "    </tr>\n",
       "    <tr>\n",
       "      <th>4</th>\n",
       "      <td>2004</td>\n",
       "      <td>5.2</td>\n",
       "      <td>0</td>\n",
       "      <td>1.0</td>\n",
       "      <td>2.0</td>\n",
       "      <td>0.0</td>\n",
       "      <td>1.0</td>\n",
       "      <td>0.0</td>\n",
       "      <td>40.0</td>\n",
       "      <td>1.0</td>\n",
       "      <td>0.0</td>\n",
       "      <td>1.0</td>\n",
       "      <td>0.0</td>\n",
       "      <td>1.0</td>\n",
       "      <td>1.0</td>\n",
       "      <td>1.0</td>\n",
       "      <td>0.0</td>\n",
       "      <td>0.0</td>\n",
       "      <td>0.0</td>\n",
       "      <td>0.0</td>\n",
       "    </tr>\n",
       "  </tbody>\n",
       "</table>\n",
       "</div>"
      ],
      "text/plain": [
       "   number  age_y  radt  pain  swollenadp  tender  tonsillarswelling  exudate  \\\n",
       "0    2000    7.0     0   1.0         1.0     0.0                0.0      0.0   \n",
       "1    2001   11.7     1   1.0         1.0     0.0                0.0      0.0   \n",
       "2    2002    5.6     1   1.0         2.0     1.0                1.0      0.0   \n",
       "3    2003    6.0     1   1.0         2.0     1.0                1.0      0.0   \n",
       "4    2004    5.2     0   1.0         2.0     0.0                1.0      0.0   \n",
       "\n",
       "   temperature  sudden  cough  rhinorrhea  conjunctivitis  headache  erythema  \\\n",
       "0         37.0     1.0    1.0         0.0             0.0       0.0       1.0   \n",
       "1         38.0     1.0    0.0         0.0             0.0       0.0       1.0   \n",
       "2         37.0     1.0    0.0         1.0             1.0       0.0       1.0   \n",
       "3         40.8     1.0    0.0         1.0             0.0       0.0       1.0   \n",
       "4         40.0     1.0    0.0         1.0             0.0       1.0       1.0   \n",
       "\n",
       "   petechiae  abdopain  diarrhea  nauseavomit  scarlet  \n",
       "0        0.0       0.0       0.0          0.0      0.0  \n",
       "1        0.0       0.0       0.0          0.0      0.0  \n",
       "2        1.0       0.0       0.0          0.0      0.0  \n",
       "3        0.0       0.0       0.0          0.0      0.0  \n",
       "4        1.0       0.0       0.0          0.0      0.0  "
      ]
     },
     "execution_count": 86,
     "metadata": {},
     "output_type": "execute_result"
    }
   ],
   "source": [
    "#Pre-processing and cleaning\n",
    "#Data Came cleaned (as seen above), and did not need any cleaning due to no nans being present in the dataset.\n",
    "df.head()"
   ]
  },
  {
   "cell_type": "code",
   "execution_count": 6,
   "id": "b6a67548-e638-48e3-ad89-57c9582abcdc",
   "metadata": {},
   "outputs": [
    {
     "data": {
      "text/plain": [
       "<AxesSubplot:xlabel='age_y', ylabel='Count'>"
      ]
     },
     "execution_count": 6,
     "metadata": {},
     "output_type": "execute_result"
    },
    {
     "data": {
      "image/png": "[encoded data removed]",
      "text/plain": [
       "<Figure size 432x288 with 1 Axes>"
      ]
     },
     "metadata": {
      "needs_background": "light"
     },
     "output_type": "display_data"
    }
   ],
   "source": [
    "#Visual 1\n",
    "sns.histplot(data = df, x = 'age_y')"
   ]
  },
  {
   "cell_type": "code",
   "execution_count": 7,
   "id": "48a09de9-9107-4d25-bbed-92da39b3d797",
   "metadata": {},
   "outputs": [
    {
     "data": {
      "text/plain": [
       "[Text(0.5, 0, 'Temperature, in celcius'),\n",
       " Text(0.5, 1.0, 'Temperature of patients')]"
      ]
     },
     "execution_count": 7,
     "metadata": {},
     "output_type": "execute_result"
    },
    {
     "data": {
      "image/png": "[encoded data removed]",
      "text/plain": [
       "<Figure size 432x288 with 1 Axes>"
      ]
     },
     "metadata": {
      "needs_background": "light"
     },
     "output_type": "display_data"
    }
   ],
   "source": [
    "#Visual 2\n",
    "temp = sns.boxplot(data = df, x = 'temperature')\n",
    "temp.set(xlabel = 'Temperature, in celcius', title = 'Temperature of patients')"
   ]
  },
  {
   "cell_type": "code",
   "execution_count": 11,
   "id": "5a5ea76a-5dfd-4472-bf3a-24e96068ff06",
   "metadata": {},
   "outputs": [],
   "source": [
    "#Prediction 1\n",
    "#We will be predicting of someone passing/failing a radt test using knn.\n",
    "#Outcome will be demonstrated on a confusion matrix with a accuracy score."
   ]
  },
  {
   "cell_type": "code",
   "execution_count": 49,
   "id": "fcfbc8d0-541d-4987-a1bd-1d04a8e1062d",
   "metadata": {},
   "outputs": [],
   "source": [
    "#Confirming no nans present\n",
    "df_noNan = df.dropna()"
   ]
  },
  {
   "cell_type": "code",
   "execution_count": 50,
   "id": "a6e53c33-8c83-47a4-ad8e-e87a28af05e9",
   "metadata": {},
   "outputs": [],
   "source": [
    "#X and Y\n",
    "x = df_noNan.drop(columns = 'radt')\n",
    "y = df_noNan['radt']"
   ]
  },
  {
   "cell_type": "code",
   "execution_count": 60,
   "id": "853b96a2-0866-4f7e-9f4f-10e97935308e",
   "metadata": {},
   "outputs": [
    {
     "data": {
      "text/plain": [
       "<AxesSubplot:xlabel='count', ylabel='radt'>"
      ]
     },
     "execution_count": 60,
     "metadata": {},
     "output_type": "execute_result"
    },
    {
     "data": {
      "image/png": "[encoded data removed]",
      "text/plain": [
       "<Figure size 432x288 with 1 Axes>"
      ]
     },
     "metadata": {
      "needs_background": "light"
     },
     "output_type": "display_data"
    }
   ],
   "source": [
    "#Visual of what we will be predicting\n",
    "sns.countplot(y=\"radt\", data=df_noNan)"
   ]
  },
  {
   "cell_type": "code",
   "execution_count": 54,
   "id": "42eb0a4b-3fe0-4c2a-8dc2-44b6eb154112",
   "metadata": {},
   "outputs": [],
   "source": [
    "#Making model\n",
    "x_train, x_test, y_train, y_test= train_test_split(x, y,\n",
    "                                                  test_size= 0.2,\n",
    "                                                  shuffle= True, #shuffle the data to avoid bias\n",
    "                                                  random_state= 42)\n",
    "x_train= np.asarray(x_train)\n",
    "y_train= np.asarray(y_train)\n",
    "\n",
    "x_test= np.asarray(x_test)\n",
    "y_test= np.asarray(y_test)"
   ]
  },
  {
   "cell_type": "code",
   "execution_count": 55,
   "id": "181fa177-d1f5-4cea-895b-d7fa1ca4586d",
   "metadata": {},
   "outputs": [],
   "source": [
    "scaler= Normalizer().fit(x_train) \n",
    "normalized_x_train= scaler.transform(x_train)\n",
    "normalized_x_test= scaler.transform(x_test) "
   ]
  },
  {
   "cell_type": "code",
   "execution_count": 56,
   "id": "0ac20622-1c3a-4e33-a88f-e30bc9042cf8",
   "metadata": {},
   "outputs": [],
   "source": [
    "k = 5 \n",
    "#initialize model and fit it\n",
    "knn = KNeighborsClassifier(k)\n",
    "knn.fit(normalized_x_train, y_train)\n",
    "#make predictions\n",
    "y_pred = knn.predict(normalized_x_test)"
   ]
  },
  {
   "cell_type": "code",
   "execution_count": 57,
   "id": "bed5a915-70f9-4108-a3b4-5538216868c6",
   "metadata": {},
   "outputs": [],
   "source": [
    "cm = confusion_matrix(y_test, y_pred)"
   ]
  },
  {
   "cell_type": "code",
   "execution_count": 58,
   "id": "4e0ee8c3-89bf-4c9d-8a8c-c44ed0de7292",
   "metadata": {},
   "outputs": [
    {
     "data": {
      "text/plain": [
       "Text(0.5, 15.0, 'Y Prediction')"
      ]
     },
     "execution_count": 58,
     "metadata": {},
     "output_type": "execute_result"
    },
    {
     "data": {
      "image/png": "[encoded data removed]",
      "text/plain": [
       "<Figure size 432x288 with 2 Axes>"
      ]
     },
     "metadata": {
      "needs_background": "light"
     },
     "output_type": "display_data"
    }
   ],
   "source": [
    "sns.heatmap(cm,annot = True, linewidths= 0.5, fmt=\".0f\")\n",
    "plt.ylabel(\"Y True\")\n",
    "plt.xlabel(\"Y Prediction\")"
   ]
  },
  {
   "cell_type": "code",
   "execution_count": 59,
   "id": "5353300f-38ba-4d21-b0fa-cc51cf39a423",
   "metadata": {},
   "outputs": [
    {
     "data": {
      "text/plain": [
       "0.5339805825242718"
      ]
     },
     "execution_count": 59,
     "metadata": {},
     "output_type": "execute_result"
    }
   ],
   "source": [
    "#It's just ok, around 53% accuracy\n",
    "accuracy_score(y_test, y_pred)\n",
    "#Our model is very good at giving true negative, meaning someone who took the radt test does not have strep throat.\n",
    "#Our model is very bad a predicting true positive, and often instead gives false negative results to occur.\n",
    "#I think our model is bad at predicting trust positive due to its large knn value, and it's inability to come to correct answers based off all predictors present."
   ]
  },
  {
   "cell_type": "code",
   "execution_count": 18,
   "id": "e51363cc-94e7-46ff-9930-6a5e1f35825e",
   "metadata": {},
   "outputs": [],
   "source": [
    "#Prediction 2\n",
    "#We will be using multiple linear regression to determine age of a patient based on various facors.\n",
    "#We will then be using a ridge regression to determine which of these predictors is the best at making a good MSE."
   ]
  },
  {
   "cell_type": "code",
   "execution_count": 65,
   "id": "e06282d5-6cc8-4932-9051-b19251b35634",
   "metadata": {},
   "outputs": [
    {
     "data": {
      "image/png": "[encoded data removed]",
      "text/plain": [
       "<Figure size 432x288 with 1 Axes>"
      ]
     },
     "metadata": {
      "needs_background": "light"
     },
     "output_type": "display_data"
    }
   ],
   "source": [
    "#Histogram showing distribution of age. (Target)\n",
    "sns.histplot(data=df_noNan, x=\"age_y\")\n",
    "plt.show()"
   ]
  },
  {
   "cell_type": "code",
   "execution_count": 63,
   "id": "aa7b9431-d2c5-410c-b41f-fa3cfef4d9fd",
   "metadata": {},
   "outputs": [
    {
     "data": {
      "text/html": [
       "<div>\n",
       "<style scoped>\n",
       "    .dataframe tbody tr th:only-of-type {\n",
       "        vertical-align: middle;\n",
       "    }\n",
       "\n",
       "    .dataframe tbody tr th {\n",
       "        vertical-align: top;\n",
       "    }\n",
       "\n",
       "    .dataframe thead th {\n",
       "        text-align: right;\n",
       "    }\n",
       "</style>\n",
       "<table border=\"1\" class=\"dataframe\">\n",
       "  <thead>\n",
       "    <tr style=\"text-align: right;\">\n",
       "      <th></th>\n",
       "      <th>coef</th>\n",
       "      <th>std err</th>\n",
       "      <th>t</th>\n",
       "      <th>P&gt;|t|</th>\n",
       "    </tr>\n",
       "  </thead>\n",
       "  <tbody>\n",
       "    <tr>\n",
       "      <th>intercept</th>\n",
       "      <td>23.4919</td>\n",
       "      <td>5.018</td>\n",
       "      <td>4.681</td>\n",
       "      <td>0.000</td>\n",
       "    </tr>\n",
       "    <tr>\n",
       "      <th>temperature</th>\n",
       "      <td>-0.4700</td>\n",
       "      <td>0.128</td>\n",
       "      <td>-3.665</td>\n",
       "      <td>0.000</td>\n",
       "    </tr>\n",
       "    <tr>\n",
       "      <th>radt</th>\n",
       "      <td>0.1010</td>\n",
       "      <td>0.218</td>\n",
       "      <td>0.463</td>\n",
       "      <td>0.644</td>\n",
       "    </tr>\n",
       "    <tr>\n",
       "      <th>pain</th>\n",
       "      <td>1.0587</td>\n",
       "      <td>0.306</td>\n",
       "      <td>3.465</td>\n",
       "      <td>0.001</td>\n",
       "    </tr>\n",
       "  </tbody>\n",
       "</table>\n",
       "</div>"
      ],
      "text/plain": [
       "                coef  std err      t  P>|t|\n",
       "intercept    23.4919    5.018  4.681  0.000\n",
       "temperature  -0.4700    0.128 -3.665  0.000\n",
       "radt          0.1010    0.218  0.463  0.644\n",
       "pain          1.0587    0.306  3.465  0.001"
      ]
     },
     "execution_count": 63,
     "metadata": {},
     "output_type": "execute_result"
    }
   ],
   "source": [
    "#Model, multiple linear regression\n",
    "design = MS(['temperature','radt','pain'])\n",
    "design = design.fit(df_noNan)\n",
    "X_1 = design.transform(df_noNan)\n",
    "y_1 = df_noNan['age_y']\n",
    "model= sm.OLS(y_1, X_1)\n",
    "result= model.fit()\n",
    "summarize(result)\n",
    "#Temperature and Pain seem to do the best at determining the age of someone. Radt on the other hand is a very poor predictor."
   ]
  },
  {
   "cell_type": "code",
   "execution_count": 64,
   "id": "551fb807-bd61-4ab2-ac6b-1486dd0b3539",
   "metadata": {},
   "outputs": [
    {
     "name": "stdout",
     "output_type": "stream",
     "text": [
      "0.05724704359065169\n"
     ]
    }
   ],
   "source": [
    "#R-Squared Value\n",
    "print(result.rsquared)"
   ]
  },
  {
   "cell_type": "code",
   "execution_count": 79,
   "id": "156cf6fe-c90d-4d5f-8df5-c0627618fea0",
   "metadata": {},
   "outputs": [
    {
     "data": {
      "text/plain": [
       "6.056800852405469"
      ]
     },
     "execution_count": 79,
     "metadata": {},
     "output_type": "execute_result"
    }
   ],
   "source": [
    "#MSE\n",
    "model_sk = sklearn_sm(sm.OLS,\n",
    "                      MS(X_1.columns))\n",
    "cv_results = cross_validate(model_sk, X_1, y_1, cv = len(X_1))\n",
    "cv_results['test_score'].mean()"
   ]
  },
  {
   "cell_type": "code",
   "execution_count": 71,
   "id": "d065e9c1-dcf3-4e92-8d6e-58664349fab2",
   "metadata": {},
   "outputs": [],
   "source": [
    "alphas = 10**np.linspace(10,-2,100)*0.5"
   ]
  },
  {
   "cell_type": "code",
   "execution_count": 81,
   "id": "a72a9c6d-a532-47eb-a3b5-853fa9ff5648",
   "metadata": {},
   "outputs": [],
   "source": [
    "scaler = StandardScaler(with_mean=True,\n",
    "                        with_std=True,\n",
    "                        copy=True)\n",
    "scaler.fit(X_1)\n",
    "X_scale = scaler.transform(X_1)\n",
    "(X_train,\n",
    " X_test,\n",
    " Y_train,\n",
    " Y_test) = train_test_split(np.asarray(X_scale),\n",
    "                            y_1,\n",
    "                            test_size=0.2)"
   ]
  },
  {
   "cell_type": "code",
   "execution_count": 82,
   "id": "e37bcbad-2f46-4d4f-aff6-97bdd6ecd917",
   "metadata": {},
   "outputs": [],
   "source": [
    "ridge = Ridge()\n",
    "coefs = []\n",
    "MSEs = []\n",
    "\n",
    "for a in alphas:\n",
    "    ridge.set_params(alpha = a)\n",
    "    ridge.fit(X_train, Y_train)\n",
    "    coefs.append(ridge.coef_)\n",
    "    pred = ridge.predict(X_test)\n",
    "    MSEs.append(mean_squared_error(Y_test, pred))"
   ]
  },
  {
   "cell_type": "code",
   "execution_count": 83,
   "id": "85097a90-e994-4d4d-8da0-34f3c92710c0",
   "metadata": {},
   "outputs": [
    {
     "data": {
      "text/plain": [
       "<matplotlib.legend.Legend at 0x7fef59ec78b0>"
      ]
     },
     "execution_count": 83,
     "metadata": {},
     "output_type": "execute_result"
    },
    {
     "data": {
      "image/png": "[encoded data removed]",
      "text/plain": [
       "<Figure size 432x288 with 1 Axes>"
      ]
     },
     "metadata": {
      "needs_background": "light"
     },
     "output_type": "display_data"
    }
   ],
   "source": [
    "plt.plot(alphas, coefs, label = X_1.columns)\n",
    "plt.xscale('log')\n",
    "plt.axis('tight')\n",
    "plt.xlabel('alpha')\n",
    "plt.ylabel('weights')\n",
    "plt.legend()"
   ]
  },
  {
   "cell_type": "code",
   "execution_count": 84,
   "id": "cebc24f4-bf06-47e3-aa6c-0a204b3cbc84",
   "metadata": {},
   "outputs": [
    {
     "data": {
      "text/plain": [
       "Text(0, 0.5, 'MSE')"
      ]
     },
     "execution_count": 84,
     "metadata": {},
     "output_type": "execute_result"
    },
    {
     "data": {
      "image/png": "[encoded data removed]",
      "text/plain": [
       "<Figure size 432x288 with 1 Axes>"
      ]
     },
     "metadata": {
      "needs_background": "light"
     },
     "output_type": "display_data"
    }
   ],
   "source": [
    "plt.plot(alphas, MSEs)\n",
    "plt.xscale('log')\n",
    "plt.axis('tight')\n",
    "plt.xlabel('alpha')\n",
    "plt.ylabel('MSE')"
   ]
  },
  {
   "cell_type": "code",
   "execution_count": null,
   "id": "fd4184ba-4570-453b-a640-78c6038942df",
   "metadata": {},
   "outputs": [],
   "source": [
    "#Cross-Validation"
   ]
  }
 ],
 "metadata": {
  "kernelspec": {
   "display_name": "Python 3 (ipykernel)",
   "language": "python",
   "name": "python3"
  },
  "language_info": {
   "codemirror_mode": {
    "name": "ipython",
    "version": 3
   },
   "file_extension": ".py",
   "mimetype": "text/x-python",
   "name": "python",
   "nbconvert_exporter": "python",
   "pygments_lexer": "ipython3",
   "version": "3.9.12"
  }
 },
 "nbformat": 4,
 "nbformat_minor": 5
}
